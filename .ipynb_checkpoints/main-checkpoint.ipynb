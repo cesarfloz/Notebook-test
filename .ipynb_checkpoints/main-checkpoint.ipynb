{
 "cells": [
  {
   "cell_type": "code",
   "execution_count": null,
   "id": "1e3c1c32-6e4d-47d0-abd9-60551eeea5a4",
   "metadata": {},
   "outputs": [],
   "source": [
    "!pip install numpy"
   ]
  },
  {
   "cell_type": "code",
   "execution_count": null,
   "id": "d50f137b-7bf7-430b-bc3a-074b426018b0",
   "metadata": {},
   "outputs": [],
   "source": [
    "import numpy as np # Importamos la libreria numpy y le asignamos el nombre \"np\" para escribir menos ;)\n",
    "import math # Importamos la libreria math para trabajar con funciones matematicas como el sen, cos....\n",
    "from coord import coo # Del archivo \"coord.py\" importamos la lista \"coo\""
   ]
  },
  {
   "cell_type": "code",
   "execution_count": null,
   "id": "0f2c3d1f-e4c5-4184-909c-5bd422cc5484",
   "metadata": {},
   "outputs": [],
   "source": [
    "sumador = 0 # Variable para ver cuanta distancia hay en determinada coordenada \n",
    "global n\n",
    "n = np.array(coo) # Un arreglito que hacemos gracias a NUMPY\n",
    "\n",
    "def addCoordinates(): \n",
    "    global lengths\n",
    "    lengths =[]\n",
    "    global latitudes \n",
    "    latitudes =[]\n",
    "\n",
    "    for coords in n: \n",
    "        lengths.append(coords[0]) \n",
    "        latitudes.append(coords[1]) \n"
   ]
  },
  {
   "cell_type": "code",
   "execution_count": null,
   "id": "1ebfd5da-2039-40c4-8ec2-e60aead2e889",
   "metadata": {},
   "outputs": [],
   "source": [
    "def addCoordinates(): \n",
    "    global lengths\n",
    "    lengths =[]\n",
    "    global latitudes \n",
    "    latitudes =[]\n",
    "\n",
    "    for coords in n: \n",
    "        lengths.append(coords[0]) \n",
    "        latitudes.append(coords[1]) \n",
    "\n",
    "addCoordinates() # Llamamos la función "
   ]
  },
  {
   "cell_type": "code",
   "execution_count": null,
   "id": "bd68b971-206d-45ca-bdb4-3336fa29b7f1",
   "metadata": {},
   "outputs": [],
   "source": [
    "# Función para calcular la distancia entre 2 puntos, gracias a la formula de haversine\n",
    "def distancia(latitud1, longitud1, latitud2, longitud2): \n",
    "\n",
    "    diferencia_latitud = (latitud2 - latitud1) * math.pi / 180.0\n",
    "    diferencia_longitud = (longitud2 - longitud1) * math.pi / 180.0\n",
    " \n",
    "    latitud1 = (latitud1) * math.pi / 180.0\n",
    "    latitud2 = (latitud2) * math.pi / 180.0\n",
    " \n",
    "    resultado_raiz_cuadrada = (pow(math.sin(diferencia_latitud / 2), 2) +\n",
    "         pow(math.sin(diferencia_longitud / 2), 2) *\n",
    "             math.cos(latitud1) * math.cos(latitud2))\n",
    "    radio_planeta = 6371\n",
    "    resultado_formula_haversine = 2 * math.asin(math.sqrt(resultado_raiz_cuadrada))\n",
    "    return f\"{radio_planeta * resultado_formula_haversine}\"\n"
   ]
  },
  {
   "cell_type": "code",
   "execution_count": null,
   "id": "eb7e0d68-043c-4514-bac6-90c45d39b242",
   "metadata": {},
   "outputs": [],
   "source": [
    "# Ciclo para comparar los puntos e imprimir la distancia tanto coordenada a coordenada, como el acumulado\n",
    "for i in range(len(lengths)-1): \n",
    "    latitudes1 = latitudes[i]\n",
    "    lengths1 = lengths[i]\n",
    "    latitudes2 = latitudes[i+1]\n",
    "    lengths2 = lengths[i+1]\n",
    "    contador =float(distancia(latitudes1, lengths1, latitudes2, lengths2).split()[0])\n",
    "    print(f\"Distancia del punto {[i+1]} al {[i+2]} es : {contador} km\")\n",
    "    sumador+=contador\n",
    "    print(f\"La suma del total de coordenadas va en: {sumador} km\")\n",
    "    i+=1"
   ]
  }
 ],
 "metadata": {
  "kernelspec": {
   "display_name": "Python 3 (ipykernel)",
   "language": "python",
   "name": "python3"
  },
  "language_info": {
   "codemirror_mode": {
    "name": "ipython",
    "version": 3
   },
   "file_extension": ".py",
   "mimetype": "text/x-python",
   "name": "python",
   "nbconvert_exporter": "python",
   "pygments_lexer": "ipython3",
   "version": "3.9.7"
  }
 },
 "nbformat": 4,
 "nbformat_minor": 5
}
